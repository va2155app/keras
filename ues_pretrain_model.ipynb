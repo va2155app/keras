{
 "cells": [
  {
   "cell_type": "code",
   "execution_count": 2,
   "metadata": {},
   "outputs": [
    {
     "name": "stderr",
     "output_type": "stream",
     "text": [
      "Using TensorFlow backend.\n"
     ]
    },
    {
     "name": "stdout",
     "output_type": "stream",
     "text": [
      "Platform: Windows-10-10.0.18362-SP0\n",
      "Tensorflow version: 2.1.0\n",
      "Keras version: 2.3.1\n"
     ]
    }
   ],
   "source": [
    "# 這個Jupyter Notebook的環境\n",
    "import platform\n",
    "import tensorflow\n",
    "import keras\n",
    "print(\"Platform: {}\".format(platform.platform()))\n",
    "print(\"Tensorflow version: {}\".format(tensorflow.__version__))\n",
    "print(\"Keras version: {}\".format(keras.__version__))\n",
    "\n",
    "%matplotlib inline\n",
    "import matplotlib.pyplot as plt\n",
    "import matplotlib.image as mpimg\n",
    "import numpy as np\n",
    "from IPython.display import Image\n",
    "\n",
    "import os, shutil\n",
    "from keras import layers\n",
    "from keras import models\n",
    "from keras.utils import plot_model\n",
    "from keras import optimizers\n",
    "from keras.preprocessing.image import ImageDataGenerator\n",
    "\n",
    "\n",
    "\n"
   ]
  },
  {
   "cell_type": "markdown",
   "metadata": {},
   "source": [
    "## 方法1: 卷積基底:提取特徴 + 串接新的密集分類層:重新訓練\n",
    "我們來看看設置第一種方法所需的程式碼：在我們的數據上記錄“conv_base”的輸出，並使用這些輸出作為新模型的輸入。\n",
    "\n",
    "我們將首先簡單地運行以前介紹的“ImageDataGenerator”的實例，以將圖像提取為Numpy數組及其標籤。我們將通過調用conv_base模型的predict方法從這些圖像中提取特徵。"
   ]
  },
  {
   "cell_type": "code",
   "execution_count": 3,
   "metadata": {},
   "outputs": [],
   "source": [
    "# 專案的根目錄路徑\n",
    "ROOT_DIR = os.getcwd()\n",
    "\n",
    "# 置放coco圖像資料與標註資料的目錄\n",
    "DATA_PATH = os.path.join(ROOT_DIR, \"data\")\n",
    "\n",
    "# 原始數據集的路徑\n",
    "original_dataset_dir = os.path.join(DATA_PATH, \"train\")\n",
    "\n",
    "# 存儲小數據集的目錄\n",
    "base_dir = os.path.join(DATA_PATH, \"cats_and_dogs_small\")\n",
    "if not os.path.exists(base_dir): \n",
    "    os.mkdir(base_dir)\n",
    "\n",
    "# 我們的訓練資料的目錄\n",
    "train_dir = os.path.join(base_dir, 'train')\n",
    "if not os.path.exists(train_dir): \n",
    "    os.mkdir(train_dir)\n",
    "\n",
    "# 我們的驗證資料的目錄\n",
    "validation_dir = os.path.join(base_dir, 'validation')\n",
    "if not os.path.exists(validation_dir): \n",
    "    os.mkdir(validation_dir)\n",
    "\n",
    "# 我們的測試資料的目錄\n",
    "test_dir = os.path.join(base_dir, 'test')\n",
    "if not os.path.exists(test_dir):\n",
    "    os.mkdir(test_dir)    \n",
    "\n",
    "# 貓的圖片的訓練資料目錄\n",
    "train_cats_dir = os.path.join(train_dir, 'cats')\n",
    "if not os.path.exists(train_cats_dir):\n",
    "    os.mkdir(train_cats_dir)\n",
    "\n",
    "# 狗的圖片的訓練資料目錄\n",
    "train_dogs_dir = os.path.join(train_dir, 'dogs')\n",
    "if not os.path.exists(train_dogs_dir):\n",
    "    os.mkdir(train_dogs_dir)\n",
    "\n",
    "# 貓的圖片的驗證資料目錄\n",
    "validation_cats_dir = os.path.join(validation_dir, 'cats')\n",
    "if not os.path.exists(validation_cats_dir):\n",
    "    os.mkdir(validation_cats_dir)\n",
    "\n",
    "# 狗的圖片的驗證資料目錄\n",
    "validation_dogs_dir = os.path.join(validation_dir, 'dogs')\n",
    "if not os.path.exists(validation_dogs_dir):\n",
    "    os.mkdir(validation_dogs_dir)\n",
    "\n",
    "# 貓的圖片的測試資料目錄\n",
    "test_cats_dir = os.path.join(test_dir, 'cats')\n",
    "if not os.path.exists(test_cats_dir):\n",
    "    os.mkdir(test_cats_dir)\n",
    "\n",
    "# 狗的圖片的測試資料目錄\n",
    "test_dogs_dir = os.path.join(test_dir, 'dogs')\n",
    "if not os.path.exists(test_dogs_dir):\n",
    "    os.mkdir(test_dogs_dir)"
   ]
  },
  {
   "cell_type": "code",
   "execution_count": 4,
   "metadata": {},
   "outputs": [],
   "source": [
    "from keras.applications import VGG16\n",
    "\n",
    "conv_base = VGG16(weights='imagenet',\n",
    "                  include_top=False, # 在這裡告訴 keras我們只需要卷積基底的權重模型資訊\n",
    "                  input_shape=(150, 150, 3)) # 宣告我們要處理的圖像大小與顏色通道數\n",
    "\n"
   ]
  },
  {
   "cell_type": "code",
   "execution_count": 5,
   "metadata": {},
   "outputs": [
    {
     "name": "stdout",
     "output_type": "stream",
     "text": [
      "Model: \"vgg16\"\n",
      "_________________________________________________________________\n",
      "Layer (type)                 Output Shape              Param #   \n",
      "=================================================================\n",
      "input_1 (InputLayer)         (None, 150, 150, 3)       0         \n",
      "_________________________________________________________________\n",
      "block1_conv1 (Conv2D)        (None, 150, 150, 64)      1792      \n",
      "_________________________________________________________________\n",
      "block1_conv2 (Conv2D)        (None, 150, 150, 64)      36928     \n",
      "_________________________________________________________________\n",
      "block1_pool (MaxPooling2D)   (None, 75, 75, 64)        0         \n",
      "_________________________________________________________________\n",
      "block2_conv1 (Conv2D)        (None, 75, 75, 128)       73856     \n",
      "_________________________________________________________________\n",
      "block2_conv2 (Conv2D)        (None, 75, 75, 128)       147584    \n",
      "_________________________________________________________________\n",
      "block2_pool (MaxPooling2D)   (None, 37, 37, 128)       0         \n",
      "_________________________________________________________________\n",
      "block3_conv1 (Conv2D)        (None, 37, 37, 256)       295168    \n",
      "_________________________________________________________________\n",
      "block3_conv2 (Conv2D)        (None, 37, 37, 256)       590080    \n",
      "_________________________________________________________________\n",
      "block3_conv3 (Conv2D)        (None, 37, 37, 256)       590080    \n",
      "_________________________________________________________________\n",
      "block3_pool (MaxPooling2D)   (None, 18, 18, 256)       0         \n",
      "_________________________________________________________________\n",
      "block4_conv1 (Conv2D)        (None, 18, 18, 512)       1180160   \n",
      "_________________________________________________________________\n",
      "block4_conv2 (Conv2D)        (None, 18, 18, 512)       2359808   \n",
      "_________________________________________________________________\n",
      "block4_conv3 (Conv2D)        (None, 18, 18, 512)       2359808   \n",
      "_________________________________________________________________\n",
      "block4_pool (MaxPooling2D)   (None, 9, 9, 512)         0         \n",
      "_________________________________________________________________\n",
      "block5_conv1 (Conv2D)        (None, 9, 9, 512)         2359808   \n",
      "_________________________________________________________________\n",
      "block5_conv2 (Conv2D)        (None, 9, 9, 512)         2359808   \n",
      "_________________________________________________________________\n",
      "block5_conv3 (Conv2D)        (None, 9, 9, 512)         2359808   \n",
      "_________________________________________________________________\n",
      "block5_pool (MaxPooling2D)   (None, 4, 4, 512)         0         \n",
      "=================================================================\n",
      "Total params: 14,714,688\n",
      "Trainable params: 14,714,688\n",
      "Non-trainable params: 0\n",
      "_________________________________________________________________\n"
     ]
    }
   ],
   "source": [
    "conv_base.summary() # 打印一下模型資訊"
   ]
  },
  {
   "cell_type": "code",
   "execution_count": 22,
   "metadata": {},
   "outputs": [
    {
     "name": "stdout",
     "output_type": "stream",
     "text": [
      "Found 2000 images belonging to 2 classes.\n",
      "extract_features complete!\n",
      "Found 1000 images belonging to 2 classes.\n",
      "extract_features complete!\n",
      "Found 1000 images belonging to 2 classes.\n",
      "extract_features complete!\n"
     ]
    }
   ],
   "source": [
    "datagen = ImageDataGenerator(rescale=1./255) # 產生一個\"圖像資料產生器\"物件\n",
    "\n",
    "batch_size = 20 # 設定每次產生的圖像的數據批量\n",
    "\n",
    "# 提取圖像特徵\n",
    "def extract_features(directory, sample_count): # 影像的目錄, 要處理的圖像數\n",
    "    features = np.zeros(shape=(sample_count, 4, 4, 512)) # 根據VGG16(卷積基底)的最後一層的輪出張量規格\n",
    "    labels = np.zeros(shape=(sample_count)) # 要處理的圖像數\n",
    "    \n",
    "    # 產生一個\"圖像資料產生器\"實例(資料是在檔案目錄中), 每呼叫它一次, 它會吐出特定批次數的圖像資料\n",
    "    generator = datagen.flow_from_directory(\n",
    "        directory,\n",
    "        target_size=(150, 150),  # 設定圖像的高(height)與寬(width)\n",
    "        batch_size=batch_size,   # 設定每次產生的圖像的數據批量\n",
    "        class_mode='binary')     # 因為我們的目標資料集只有兩類(cat & dog)\n",
    "    \n",
    "    # 讓我們把訓練資料集所有的圖像都跑過一次\n",
    "    i = 0\n",
    "    for inputs_batch, labels_batch in generator:\n",
    "        features_batch = conv_base.predict(inputs_batch) # 透過“卷積基底”來淬取圖像特徵\n",
    "        features[i * batch_size : (i + 1) * batch_size] = features_batch # 把特徴先存放起來\n",
    "        labels[i * batch_size : (i + 1) * batch_size] = labels_batch #把標籤先存放起來\n",
    "        i += 1\n",
    "        if i * batch_size >= sample_count:\n",
    "            # Note that since generators yield data indefinitely in a loop,\n",
    "            # we must `break` after every image has been seen once.\n",
    "            break\n",
    "    \n",
    "    print('extract_features complete!')\n",
    "    return features, labels\n",
    "\n",
    "train_features, train_labels = extract_features(train_dir, 2000) # 訓練資料的圖像特徵淬取\n",
    "validation_features, validation_labels = extract_features(validation_dir, 1000) # 驗證資料的圖像特徵淬取\n",
    "test_features, test_labels = extract_features(test_dir, 1000) # 測試資料的圖像特徵淬取"
   ]
  },
  {
   "cell_type": "code",
   "execution_count": 23,
   "metadata": {},
   "outputs": [],
   "source": [
    "train_features = np.reshape(train_features, (2000, 4 * 4 * 512))\n",
    "validation_features = np.reshape(validation_features, (1000, 4 * 4 * 512))\n",
    "test_features = np.reshape(test_features, (1000, 4 * 4 * 512))"
   ]
  },
  {
   "cell_type": "code",
   "execution_count": 24,
   "metadata": {},
   "outputs": [
    {
     "name": "stdout",
     "output_type": "stream",
     "text": [
      "Train on 2000 samples, validate on 1000 samples\n",
      "Epoch 1/30\n",
      "2000/2000 [==============================] - 2s 1ms/step - loss: 0.6156 - acc: 0.6665 - val_loss: 0.4389 - val_acc: 0.8290\n",
      "Epoch 2/30\n",
      "2000/2000 [==============================] - 2s 847us/step - loss: 0.4361 - acc: 0.7945 - val_loss: 0.3813 - val_acc: 0.8320\n",
      "Epoch 3/30\n",
      "2000/2000 [==============================] - 3s 2ms/step - loss: 0.3613 - acc: 0.8475 - val_loss: 0.3269 - val_acc: 0.8700\n",
      "Epoch 4/30\n",
      "2000/2000 [==============================] - 5s 3ms/step - loss: 0.3182 - acc: 0.8690 - val_loss: 0.3042 - val_acc: 0.8810TA: 0s - loss: 0.3308 \n",
      "Epoch 5/30\n",
      "2000/2000 [==============================] - 3s 1ms/step - loss: 0.2793 - acc: 0.8885 - val_loss: 0.2880 - val_acc: 0.8820\n",
      "Epoch 6/30\n",
      "2000/2000 [==============================] - 2s 1ms/step - loss: 0.2577 - acc: 0.9000 - val_loss: 0.2775 - val_acc: 0.8890\n",
      "Epoch 7/30\n",
      "2000/2000 [==============================] - 2s 971us/step - loss: 0.2442 - acc: 0.9050 - val_loss: 0.2821 - val_acc: 0.8830\n",
      "Epoch 8/30\n",
      "2000/2000 [==============================] - 2s 982us/step - loss: 0.2272 - acc: 0.9110 - val_loss: 0.2601 - val_acc: 0.8970\n",
      "Epoch 9/30\n",
      "2000/2000 [==============================] - 3s 2ms/step - loss: 0.2216 - acc: 0.9085 - val_loss: 0.2557 - val_acc: 0.8960\n",
      "Epoch 10/30\n",
      "2000/2000 [==============================] - 2s 1ms/step - loss: 0.2044 - acc: 0.9315 - val_loss: 0.2512 - val_acc: 0.8980\n",
      "Epoch 11/30\n",
      "2000/2000 [==============================] - 2s 978us/step - loss: 0.1932 - acc: 0.9260 - val_loss: 0.2490 - val_acc: 0.8970\n",
      "Epoch 12/30\n",
      "2000/2000 [==============================] - 2s 972us/step - loss: 0.1874 - acc: 0.9265 - val_loss: 0.2440 - val_acc: 0.9020\n",
      "Epoch 13/30\n",
      "2000/2000 [==============================] - 2s 1ms/step - loss: 0.1786 - acc: 0.9335 - val_loss: 0.2556 - val_acc: 0.8930\n",
      "Epoch 14/30\n",
      "2000/2000 [==============================] - 2s 1ms/step - loss: 0.1680 - acc: 0.9405 - val_loss: 0.2538 - val_acc: 0.8930\n",
      "Epoch 15/30\n",
      "2000/2000 [==============================] - 2s 1ms/step - loss: 0.1629 - acc: 0.9435 - val_loss: 0.2419 - val_acc: 0.9040\n",
      "Epoch 16/30\n",
      "2000/2000 [==============================] - 2s 1ms/step - loss: 0.1507 - acc: 0.9495 - val_loss: 0.2445 - val_acc: 0.9010\n",
      "Epoch 17/30\n",
      "2000/2000 [==============================] - 2s 1ms/step - loss: 0.1527 - acc: 0.9460 - val_loss: 0.2396 - val_acc: 0.9050\n",
      "Epoch 18/30\n",
      "2000/2000 [==============================] - 2s 961us/step - loss: 0.1362 - acc: 0.9550 - val_loss: 0.2422 - val_acc: 0.9020\n",
      "Epoch 19/30\n",
      "2000/2000 [==============================] - 2s 932us/step - loss: 0.1377 - acc: 0.9545 - val_loss: 0.2493 - val_acc: 0.8940\n",
      "Epoch 20/30\n",
      "2000/2000 [==============================] - 2s 933us/step - loss: 0.1273 - acc: 0.9555 - val_loss: 0.2394 - val_acc: 0.9060\n",
      "Epoch 21/30\n",
      "2000/2000 [==============================] - 2s 980us/step - loss: 0.1253 - acc: 0.9585 - val_loss: 0.2376 - val_acc: 0.9050\n",
      "Epoch 22/30\n",
      "2000/2000 [==============================] - 2s 952us/step - loss: 0.1200 - acc: 0.9600 - val_loss: 0.2482 - val_acc: 0.8990\n",
      "Epoch 23/30\n",
      "2000/2000 [==============================] - 2s 960us/step - loss: 0.1193 - acc: 0.9575 - val_loss: 0.2398 - val_acc: 0.9030\n",
      "Epoch 24/30\n",
      "2000/2000 [==============================] - 2s 1ms/step - loss: 0.1111 - acc: 0.9610 - val_loss: 0.2416 - val_acc: 0.9050\n",
      "Epoch 25/30\n",
      "2000/2000 [==============================] - 2s 1ms/step - loss: 0.1053 - acc: 0.9665 - val_loss: 0.2445 - val_acc: 0.9040\n",
      "Epoch 26/30\n",
      "2000/2000 [==============================] - 2s 1ms/step - loss: 0.1050 - acc: 0.9650 - val_loss: 0.2545 - val_acc: 0.8950\n",
      "Epoch 27/30\n",
      "2000/2000 [==============================] - 2s 817us/step - loss: 0.0969 - acc: 0.9735 - val_loss: 0.2438 - val_acc: 0.9020\n",
      "Epoch 28/30\n",
      "2000/2000 [==============================] - 2s 905us/step - loss: 0.0931 - acc: 0.9690 - val_loss: 0.2407 - val_acc: 0.9030\n",
      "Epoch 29/30\n",
      "2000/2000 [==============================] - 2s 874us/step - loss: 0.0912 - acc: 0.9720 - val_loss: 0.2410 - val_acc: 0.9050\n",
      "Epoch 30/30\n",
      "2000/2000 [==============================] - 2s 933us/step - loss: 0.0924 - acc: 0.9715 - val_loss: 0.2415 - val_acc: 0.9030\n"
     ]
    }
   ],
   "source": [
    "# 產生一個新的密集連接層來做為分類器\n",
    "model = models.Sequential()\n",
    "model.add(layers.Dense(256, activation='relu', input_dim=4 * 4 * 512))\n",
    "model.add(layers.Dropout(0.5))\n",
    "model.add(layers.Dense(1, activation='sigmoid')) # 因為我的資料集只有兩類(cat & dog)\n",
    "\n",
    "model.compile(optimizer=optimizers.RMSprop(lr=2e-5),\n",
    "              loss='binary_crossentropy',\n",
    "              metrics=['acc'])\n",
    "\n",
    "# 把透過預處理的卷積基底所提取的特徵做為input來進行訓練\n",
    "history = model.fit(train_features, train_labels,\n",
    "                    epochs=30,\n",
    "                    batch_size=20,\n",
    "                    validation_data=(validation_features, validation_labels))"
   ]
  },
  {
   "cell_type": "code",
   "execution_count": 25,
   "metadata": {},
   "outputs": [
    {
     "data": {
      "text/plain": [
       "<matplotlib.legend.Legend at 0x1f7164fb438>"
      ]
     },
     "execution_count": 25,
     "metadata": {},
     "output_type": "execute_result"
    },
    {
     "data": {
      "image/png": "[encoded data removed]",
      "text/plain": [
       "<Figure size 432x288 with 1 Axes>"
      ]
     },
     "metadata": {
      "needs_background": "light"
     },
     "output_type": "display_data"
    },
    {
     "data": {
      "image/png": "[encoded data removed]",
      "text/plain": [
       "<Figure size 432x288 with 1 Axes>"
      ]
     },
     "metadata": {
      "needs_background": "light"
     },
     "output_type": "display_data"
    }
   ],
   "source": [
    "acc = history.history['acc']\n",
    "val_acc = history.history['val_acc']\n",
    "loss = history.history['loss']\n",
    "val_loss = history.history['val_loss']\n",
    "\n",
    "epochs = range(len(acc))\n",
    "\n",
    "plt.plot(epochs, acc, label='Training acc')\n",
    "plt.plot(epochs, val_acc, label='Validation acc')\n",
    "plt.title('Training and validation accuracy')\n",
    "plt.legend()\n",
    "\n",
    "plt.figure()\n",
    "\n",
    "plt.plot(epochs, loss, label='Training loss')\n",
    "plt.plot(epochs, val_loss, label='Validation loss')\n",
    "plt.title('Training and validation loss')\n",
    "plt.legend()"
   ]
  },
  {
   "cell_type": "markdown",
   "metadata": {},
   "source": [
    "##  方法2: (卷積基底:凍結 + 串接新的密集分類層) >> 重新訓練\n",
    "現在，我們來回顧一下我們提到的第二種特徵提取技術，這種方法要慢得多，而且會花更多的時間與計算資源，但是我們可以在訓練過程中利用數據擴充(data augmentation): 擴展conv_base模型，並進行端(end)對端(end)的訓練。\n",
    "\n",
    "請注意，這種手法真的是非常昂貴的，所以只有在你有GPU時才應該嘗試它：在CPU上是絕對棘手的。如果您無法在GPU上運行代碼，那麼前一個手法就是你要選的路。\n",
    "\n",
    "因為模型的行為就像堆積木，所以你可以添加一個模型（像我們的conv_base）到Sequential模型，就像添加一個圖層一樣。所以你可以執行以下操作："
   ]
  },
  {
   "cell_type": "code",
   "execution_count": 27,
   "metadata": {},
   "outputs": [
    {
     "name": "stdout",
     "output_type": "stream",
     "text": [
      "Model: \"sequential_6\"\n",
      "_________________________________________________________________\n",
      "Layer (type)                 Output Shape              Param #   \n",
      "=================================================================\n",
      "vgg16 (Model)                (None, 4, 4, 512)         14714688  \n",
      "_________________________________________________________________\n",
      "flatten_5 (Flatten)          (None, 8192)              0         \n",
      "_________________________________________________________________\n",
      "dense_11 (Dense)             (None, 256)               2097408   \n",
      "_________________________________________________________________\n",
      "dense_12 (Dense)             (None, 1)                 257       \n",
      "=================================================================\n",
      "Total params: 16,812,353\n",
      "Trainable params: 16,812,353\n",
      "Non-trainable params: 0\n",
      "_________________________________________________________________\n"
     ]
    }
   ],
   "source": [
    "model = models.Sequential() # 產生一個新的網絡模型結構\n",
    "\n",
    "model.add(conv_base)        # 把預訓練的卷積基底疊上去\n",
    "model.add(layers.Flatten()) # 打平\n",
    "model.add(layers.Dense(256, activation='relu'))  # 疊上新的密集連接層來做為分類器\n",
    "model.add(layers.Dense(1, activation='sigmoid')) # 因為我的資料集只有兩類(cat & dog)\n",
    "\n",
    "model.summary()\n"
   ]
  },
  {
   "cell_type": "code",
   "execution_count": 32,
   "metadata": {},
   "outputs": [
    {
     "name": "stdout",
     "output_type": "stream",
     "text": [
      "This is the number of trainable weights after freezing the conv base: 4\n"
     ]
    }
   ],
   "source": [
    "# “凍結”卷積基底\n",
    "conv_base.trainable = False\n",
    "\n",
    "# 再看一下“凍結後”有多少可以被訓練的權重\n",
    "print('This is the number of trainable weights '\n",
    "      'after freezing the conv base:', len(model.trainable_weights))"
   ]
  },
  {
   "cell_type": "code",
   "execution_count": 29,
   "metadata": {},
   "outputs": [
    {
     "name": "stdout",
     "output_type": "stream",
     "text": [
      "Found 2000 images belonging to 2 classes.\n",
      "Found 1000 images belonging to 2 classes.\n",
      "Epoch 1/30\n",
      " - 53s - loss: 0.1900 - acc: 0.9240 - val_loss: 0.1022 - val_acc: 0.9440\n",
      "Epoch 2/30\n",
      " - 66s - loss: 0.1834 - acc: 0.9240 - val_loss: 0.0085 - val_acc: 0.9450\n",
      "Epoch 3/30\n",
      " - 71s - loss: 0.1724 - acc: 0.9290 - val_loss: 0.0909 - val_acc: 0.9460\n",
      "Epoch 4/30\n",
      " - 63s - loss: 0.1554 - acc: 0.9350 - val_loss: 0.0135 - val_acc: 0.9530\n",
      "Epoch 5/30\n",
      " - 64s - loss: 0.1478 - acc: 0.9390 - val_loss: 0.2727 - val_acc: 0.9480\n",
      "Epoch 6/30\n",
      " - 63s - loss: 0.1599 - acc: 0.9355 - val_loss: 0.0665 - val_acc: 0.9450\n",
      "Epoch 7/30\n",
      " - 62s - loss: 0.1623 - acc: 0.9305 - val_loss: 0.1253 - val_acc: 0.9480\n",
      "Epoch 8/30\n",
      " - 62s - loss: 0.1551 - acc: 0.9400 - val_loss: 0.0329 - val_acc: 0.9470\n",
      "Epoch 9/30\n",
      " - 61s - loss: 0.1466 - acc: 0.9425 - val_loss: 0.0328 - val_acc: 0.9560\n",
      "Epoch 10/30\n",
      " - 62s - loss: 0.1484 - acc: 0.9420 - val_loss: 0.1012 - val_acc: 0.9500\n",
      "Epoch 11/30\n",
      " - 63s - loss: 0.1501 - acc: 0.9400 - val_loss: 0.0772 - val_acc: 0.9500\n",
      "Epoch 12/30\n",
      " - 65s - loss: 0.1473 - acc: 0.9410 - val_loss: 0.2932 - val_acc: 0.9550\n",
      "Epoch 13/30\n",
      " - 60s - loss: 0.1404 - acc: 0.9450 - val_loss: 0.3552 - val_acc: 0.9570\n",
      "Epoch 14/30\n",
      " - 58s - loss: 0.1366 - acc: 0.9445 - val_loss: 0.0087 - val_acc: 0.9590\n",
      "Epoch 15/30\n",
      " - 58s - loss: 0.1532 - acc: 0.9350 - val_loss: 0.0842 - val_acc: 0.9520\n",
      "Epoch 16/30\n",
      " - 60s - loss: 0.1489 - acc: 0.9410 - val_loss: 0.0422 - val_acc: 0.9560\n",
      "Epoch 17/30\n",
      " - 62s - loss: 0.1426 - acc: 0.9415 - val_loss: 0.0847 - val_acc: 0.9520\n",
      "Epoch 18/30\n",
      " - 59s - loss: 0.1406 - acc: 0.9445 - val_loss: 0.0054 - val_acc: 0.9530\n",
      "Epoch 19/30\n",
      " - 58s - loss: 0.1371 - acc: 0.9465 - val_loss: 0.1255 - val_acc: 0.9580\n",
      "Epoch 20/30\n",
      " - 58s - loss: 0.1359 - acc: 0.9440 - val_loss: 0.1427 - val_acc: 0.9510\n",
      "Epoch 21/30\n",
      " - 58s - loss: 0.1464 - acc: 0.9485 - val_loss: 0.0144 - val_acc: 0.9540\n",
      "Epoch 22/30\n",
      " - 58s - loss: 0.1249 - acc: 0.9520 - val_loss: 0.0122 - val_acc: 0.9570\n",
      "Epoch 23/30\n",
      " - 58s - loss: 0.1393 - acc: 0.9440 - val_loss: 0.0492 - val_acc: 0.9530\n",
      "Epoch 24/30\n",
      " - 58s - loss: 0.1286 - acc: 0.9475 - val_loss: 0.0791 - val_acc: 0.9540\n",
      "Epoch 25/30\n",
      " - 62s - loss: 0.1316 - acc: 0.9445 - val_loss: 0.0276 - val_acc: 0.9530\n",
      "Epoch 26/30\n",
      " - 61s - loss: 0.1318 - acc: 0.9470 - val_loss: 0.1720 - val_acc: 0.9530\n",
      "Epoch 27/30\n",
      " - 61s - loss: 0.1278 - acc: 0.9440 - val_loss: 0.0194 - val_acc: 0.9560\n",
      "Epoch 28/30\n",
      " - 63s - loss: 0.1330 - acc: 0.9470 - val_loss: 0.0538 - val_acc: 0.9570\n",
      "Epoch 29/30\n",
      " - 62s - loss: 0.1332 - acc: 0.9495 - val_loss: 0.0442 - val_acc: 0.9560\n",
      "Epoch 30/30\n",
      " - 65s - loss: 0.1283 - acc: 0.9500 - val_loss: 0.2020 - val_acc: 0.9540\n"
     ]
    }
   ],
   "source": [
    "\n",
    "\n",
    "train_datagen = ImageDataGenerator(\n",
    "      rescale=1./255,\n",
    "      rotation_range=40,\n",
    "      width_shift_range=0.2,\n",
    "      height_shift_range=0.2,\n",
    "      shear_range=0.2,\n",
    "      zoom_range=0.2,\n",
    "      horizontal_flip=True,\n",
    "      fill_mode='nearest')\n",
    "\n",
    "# 請注意: 驗證用的資料不要進行資料的增強\n",
    "test_datagen = ImageDataGenerator(rescale=1./255)\n",
    "\n",
    "train_generator = train_datagen.flow_from_directory(\n",
    "        # 圖像資料的目錄\n",
    "        train_dir,\n",
    "        # 設定圖像的高(height)與寬(width)\n",
    "        target_size=(150, 150),\n",
    "        batch_size=20,\n",
    "        # 因為我們的目標資料集只有兩類(cat & dog)\n",
    "        class_mode='binary')\n",
    "\n",
    "validation_generator = test_datagen.flow_from_directory(\n",
    "        validation_dir,\n",
    "        target_size=(150, 150),\n",
    "        batch_size=20,\n",
    "        class_mode='binary')\n",
    "\n",
    "model.compile(loss='binary_crossentropy',\n",
    "              optimizer=optimizers.RMSprop(lr=2e-5),\n",
    "              metrics=['acc'])\n",
    "\n",
    "history = model.fit_generator(\n",
    "      train_generator,\n",
    "      steps_per_epoch=100,\n",
    "      epochs=30,\n",
    "      validation_data=validation_generator,\n",
    "      validation_steps=50,\n",
    "      verbose=2)"
   ]
  },
  {
   "cell_type": "code",
   "execution_count": 31,
   "metadata": {},
   "outputs": [
    {
     "data": {
      "text/plain": [
       "<matplotlib.legend.Legend at 0x1f719e569b0>"
      ]
     },
     "execution_count": 31,
     "metadata": {},
     "output_type": "execute_result"
    },
    {
     "data": {
      "image/png": "[encoded data removed]",
      "text/plain": [
       "<Figure size 432x288 with 1 Axes>"
      ]
     },
     "metadata": {
      "needs_background": "light"
     },
     "output_type": "display_data"
    },
    {
     "data": {
      "image/png": "[encoded data removed]",
      "text/plain": [
       "<Figure size 432x288 with 1 Axes>"
      ]
     },
     "metadata": {
      "needs_background": "light"
     },
     "output_type": "display_data"
    }
   ],
   "source": [
    "acc = history.history['acc']\n",
    "val_acc = history.history['val_acc']\n",
    "loss = history.history['loss']\n",
    "val_loss = history.history['val_loss']\n",
    "\n",
    "epochs = range(len(acc))\n",
    "\n",
    "plt.plot(epochs, acc, label='Training acc')\n",
    "plt.plot(epochs, val_acc, label='Validation acc')\n",
    "plt.title('Training and validation accuracy')\n",
    "plt.legend()\n",
    "\n",
    "plt.figure()\n",
    "\n",
    "plt.plot(epochs, loss, label='Training loss')\n",
    "plt.plot(epochs, val_loss, label='Validation loss')\n",
    "plt.title('Training and validation loss')\n",
    "plt.legend()"
   ]
  },
  {
   "cell_type": "markdown",
   "metadata": {},
   "source": [
    "## 微調 (fine-tuning)\n",
    "另一種廣泛使用的模型重覆利用技術，與_特徵提取(feature extraction)相輔相成，是 (微調) fine-tuning_。\n",
    "\n",
    "微調包括解凍用於特徵提取的凍結模型庫中的幾個頂層(top layers)，並且共同訓練新添加的模型部分（在我們的範例中是完全連接的分類器）和這些頂層。這被稱為“微調(fine-tuning)”，因為它稍微調整正在重複使用的模型中更抽象的表示，以使它們與當前的要處理的問題更相關。"
   ]
  },
  {
   "cell_type": "code",
   "execution_count": 9,
   "metadata": {},
   "outputs": [
    {
     "name": "stdout",
     "output_type": "stream",
     "text": [
      "Model: \"vgg16\"\n",
      "_________________________________________________________________\n",
      "Layer (type)                 Output Shape              Param #   \n",
      "=================================================================\n",
      "input_1 (InputLayer)         (None, 150, 150, 3)       0         \n",
      "_________________________________________________________________\n",
      "block1_conv1 (Conv2D)        (None, 150, 150, 64)      1792      \n",
      "_________________________________________________________________\n",
      "block1_conv2 (Conv2D)        (None, 150, 150, 64)      36928     \n",
      "_________________________________________________________________\n",
      "block1_pool (MaxPooling2D)   (None, 75, 75, 64)        0         \n",
      "_________________________________________________________________\n",
      "block2_conv1 (Conv2D)        (None, 75, 75, 128)       73856     \n",
      "_________________________________________________________________\n",
      "block2_conv2 (Conv2D)        (None, 75, 75, 128)       147584    \n",
      "_________________________________________________________________\n",
      "block2_pool (MaxPooling2D)   (None, 37, 37, 128)       0         \n",
      "_________________________________________________________________\n",
      "block3_conv1 (Conv2D)        (None, 37, 37, 256)       295168    \n",
      "_________________________________________________________________\n",
      "block3_conv2 (Conv2D)        (None, 37, 37, 256)       590080    \n",
      "_________________________________________________________________\n",
      "block3_conv3 (Conv2D)        (None, 37, 37, 256)       590080    \n",
      "_________________________________________________________________\n",
      "block3_pool (MaxPooling2D)   (None, 18, 18, 256)       0         \n",
      "_________________________________________________________________\n",
      "block4_conv1 (Conv2D)        (None, 18, 18, 512)       1180160   \n",
      "_________________________________________________________________\n",
      "block4_conv2 (Conv2D)        (None, 18, 18, 512)       2359808   \n",
      "_________________________________________________________________\n",
      "block4_conv3 (Conv2D)        (None, 18, 18, 512)       2359808   \n",
      "_________________________________________________________________\n",
      "block4_pool (MaxPooling2D)   (None, 9, 9, 512)         0         \n",
      "_________________________________________________________________\n",
      "block5_conv1 (Conv2D)        (None, 9, 9, 512)         2359808   \n",
      "_________________________________________________________________\n",
      "block5_conv2 (Conv2D)        (None, 9, 9, 512)         2359808   \n",
      "_________________________________________________________________\n",
      "block5_conv3 (Conv2D)        (None, 9, 9, 512)         2359808   \n",
      "_________________________________________________________________\n",
      "block5_pool (MaxPooling2D)   (None, 4, 4, 512)         0         \n",
      "=================================================================\n",
      "Total params: 14,714,688\n",
      "Trainable params: 7,079,424\n",
      "Non-trainable params: 7,635,264\n",
      "_________________________________________________________________\n"
     ]
    }
   ],
   "source": [
    "conv_base.summary()"
   ]
  },
  {
   "cell_type": "code",
   "execution_count": 12,
   "metadata": {},
   "outputs": [
    {
     "name": "stdout",
     "output_type": "stream",
     "text": [
      "input_1: False\n",
      "block1_conv1: False\n",
      "block1_conv2: False\n",
      "block1_pool: False\n",
      "block2_conv1: False\n",
      "block2_conv2: False\n",
      "block2_pool: False\n",
      "block3_conv1: False\n",
      "block3_conv2: False\n",
      "block3_conv3: False\n",
      "block3_pool: False\n",
      "block4_conv1: False\n",
      "block4_conv2: False\n",
      "block4_conv3: False\n",
      "block4_pool: False\n",
      "block5_conv1: True\n",
      "block5_conv2: True\n",
      "block5_conv3: True\n",
      "block5_pool: True\n"
     ]
    }
   ],
   "source": [
    "conv_base.trainable = True # 解凍 \"卷積基底\"\n",
    "\n",
    "# 所有層直到block4_pool都應該被凍結，而 block5_conv1，block5_conv2, block5_conv3 及 block5_pool則被解凍        \n",
    "layers_frozen = ['block5_conv1','block5_conv2', 'block5_conv3', 'block5_pool']\n",
    "for layer in conv_base.layers:\n",
    "    if layer.name in layers_frozen:\n",
    "        layer.trainable = True\n",
    "    else:\n",
    "        layer.trainable = False\n",
    "        \n",
    "# 把每一層是否可以被\"trainable\"的flat打印出來\n",
    "for layer in conv_base.layers:\n",
    "    print(\"{}: {}\".format(layer.name, layer.trainable))"
   ]
  },
  {
   "cell_type": "code",
   "execution_count": 11,
   "metadata": {},
   "outputs": [
    {
     "name": "stdout",
     "output_type": "stream",
     "text": [
      "Found 2000 images belonging to 2 classes.\n",
      "Found 1000 images belonging to 2 classes.\n"
     ]
    }
   ],
   "source": [
    "model = models.Sequential() # 產生一個新的網絡模型結構\n",
    "\n",
    "model.add(conv_base)        # 把預訓練的卷積基底疊上去\n",
    "model.add(layers.Flatten()) # 打平\n",
    "model.add(layers.Dense(256, activation='relu'))  # 疊上新的密集連接層來做為分類器\n",
    "model.add(layers.Dense(1, activation='sigmoid')) # 因為我的資料集只有兩類(cat & dog)\n",
    "\n",
    "\n",
    "\n",
    "\n",
    "train_datagen = ImageDataGenerator(\n",
    "      rescale=1./255,\n",
    "      rotation_range=40,\n",
    "      width_shift_range=0.2,\n",
    "      height_shift_range=0.2,\n",
    "      shear_range=0.2,\n",
    "      zoom_range=0.2,\n",
    "      horizontal_flip=True,\n",
    "      fill_mode='nearest')\n",
    "\n",
    "# 請注意: 驗證用的資料不要進行資料的增強\n",
    "test_datagen = ImageDataGenerator(rescale=1./255)\n",
    "\n",
    "train_generator = train_datagen.flow_from_directory(\n",
    "        # 圖像資料的目錄\n",
    "        train_dir,\n",
    "        # 設定圖像的高(height)與寬(width)\n",
    "        target_size=(150, 150),\n",
    "        batch_size=20,\n",
    "        # 因為我們的目標資料集只有兩類(cat & dog)\n",
    "        class_mode='binary')\n",
    "\n",
    "validation_generator = test_datagen.flow_from_directory(\n",
    "        validation_dir,\n",
    "        target_size=(150, 150),\n",
    "        batch_size=20,\n",
    "        class_mode='binary')\n",
    "\n",
    "model.compile(loss='binary_crossentropy',\n",
    "              optimizer=optimizers.RMSprop(lr=2e-5),\n",
    "              metrics=['acc'])"
   ]
  },
  {
   "cell_type": "code",
   "execution_count": 13,
   "metadata": {},
   "outputs": [
    {
     "name": "stdout",
     "output_type": "stream",
     "text": [
      "Epoch 1/50\n",
      "100/100 [==============================] - 58s 580ms/step - loss: 0.5073 - acc: 0.7450 - val_loss: 0.2651 - val_acc: 0.8930\n",
      "Epoch 2/50\n",
      "100/100 [==============================] - 55s 549ms/step - loss: 0.3202 - acc: 0.8645 - val_loss: 0.3258 - val_acc: 0.9090\n",
      "Epoch 3/50\n",
      "100/100 [==============================] - 57s 572ms/step - loss: 0.2894 - acc: 0.8745 - val_loss: 0.3785 - val_acc: 0.9110\n",
      "Epoch 4/50\n",
      "100/100 [==============================] - 63s 634ms/step - loss: 0.2578 - acc: 0.8855 - val_loss: 0.1052 - val_acc: 0.9180\n",
      "Epoch 5/50\n",
      "100/100 [==============================] - 76s 760ms/step - loss: 0.2408 - acc: 0.9025 - val_loss: 0.4238 - val_acc: 0.9260\n",
      "Epoch 6/50\n",
      "100/100 [==============================] - 67s 669ms/step - loss: 0.2170 - acc: 0.9075 - val_loss: 0.1156 - val_acc: 0.9190\n",
      "Epoch 7/50\n",
      "100/100 [==============================] - 66s 656ms/step - loss: 0.2069 - acc: 0.9180 - val_loss: 0.0680 - val_acc: 0.9220\n",
      "Epoch 8/50\n",
      "100/100 [==============================] - 65s 655ms/step - loss: 0.1900 - acc: 0.9200 - val_loss: 0.2936 - val_acc: 0.9300\n",
      "Epoch 9/50\n",
      "100/100 [==============================] - 65s 651ms/step - loss: 0.1650 - acc: 0.9365 - val_loss: 0.0986 - val_acc: 0.9330\n",
      "Epoch 10/50\n",
      "100/100 [==============================] - 66s 657ms/step - loss: 0.1621 - acc: 0.9340 - val_loss: 0.0324 - val_acc: 0.9290\n",
      "Epoch 11/50\n",
      "100/100 [==============================] - 65s 651ms/step - loss: 0.1599 - acc: 0.9340 - val_loss: 0.1673 - val_acc: 0.9340\n",
      "Epoch 12/50\n",
      "100/100 [==============================] - 67s 666ms/step - loss: 0.1568 - acc: 0.9345 - val_loss: 0.0715 - val_acc: 0.9330\n",
      "Epoch 13/50\n",
      "100/100 [==============================] - 66s 660ms/step - loss: 0.1496 - acc: 0.9430 - val_loss: 0.1236 - val_acc: 0.9050\n",
      "Epoch 14/50\n",
      "100/100 [==============================] - 68s 682ms/step - loss: 0.1340 - acc: 0.9475 - val_loss: 0.0453 - val_acc: 0.9320\n",
      "Epoch 15/50\n",
      "100/100 [==============================] - 68s 679ms/step - loss: 0.1261 - acc: 0.9465 - val_loss: 0.3031 - val_acc: 0.9390\n",
      "Epoch 16/50\n",
      "100/100 [==============================] - 70s 701ms/step - loss: 0.1174 - acc: 0.9530 - val_loss: 0.1200 - val_acc: 0.9310\n",
      "Epoch 17/50\n",
      "100/100 [==============================] - 73s 728ms/step - loss: 0.1146 - acc: 0.9505 - val_loss: 0.0054 - val_acc: 0.9340\n",
      "Epoch 18/50\n",
      "100/100 [==============================] - 72s 719ms/step - loss: 0.1226 - acc: 0.9525 - val_loss: 0.4477 - val_acc: 0.9110\n",
      "Epoch 19/50\n",
      "100/100 [==============================] - 72s 716ms/step - loss: 0.1055 - acc: 0.9620 - val_loss: 0.0404 - val_acc: 0.9350\n",
      "Epoch 20/50\n",
      "100/100 [==============================] - 70s 701ms/step - loss: 0.1036 - acc: 0.9575 - val_loss: 0.0040 - val_acc: 0.9340\n",
      "Epoch 21/50\n",
      "100/100 [==============================] - 69s 688ms/step - loss: 0.0968 - acc: 0.9590 - val_loss: 0.7268 - val_acc: 0.9340\n",
      "Epoch 22/50\n",
      "100/100 [==============================] - 71s 712ms/step - loss: 0.0809 - acc: 0.9690 - val_loss: 0.4807 - val_acc: 0.9400\n",
      "Epoch 23/50\n",
      "100/100 [==============================] - 75s 754ms/step - loss: 0.0883 - acc: 0.9675 - val_loss: 0.0474 - val_acc: 0.9370\n",
      "Epoch 24/50\n",
      "100/100 [==============================] - 70s 705ms/step - loss: 0.0900 - acc: 0.9655 - val_loss: 0.4365 - val_acc: 0.9410\n",
      "Epoch 25/50\n",
      "100/100 [==============================] - 81s 807ms/step - loss: 0.0726 - acc: 0.9705 - val_loss: 0.1923 - val_acc: 0.9270\n",
      "Epoch 26/50\n",
      "100/100 [==============================] - 76s 755ms/step - loss: 0.0705 - acc: 0.9750 - val_loss: 0.1244 - val_acc: 0.9420\n",
      "Epoch 27/50\n",
      "100/100 [==============================] - 73s 726ms/step - loss: 0.0850 - acc: 0.9690 - val_loss: 0.0793 - val_acc: 0.9210\n",
      "Epoch 28/50\n",
      "100/100 [==============================] - 72s 721ms/step - loss: 0.0782 - acc: 0.9705 - val_loss: 0.1225 - val_acc: 0.9410\n",
      "Epoch 29/50\n",
      "100/100 [==============================] - 71s 715ms/step - loss: 0.0575 - acc: 0.9790 - val_loss: 0.3640 - val_acc: 0.9330\n",
      "Epoch 30/50\n",
      "100/100 [==============================] - 72s 721ms/step - loss: 0.0620 - acc: 0.9755 - val_loss: 0.4260 - val_acc: 0.9370\n",
      "Epoch 31/50\n",
      "100/100 [==============================] - 76s 755ms/step - loss: 0.0878 - acc: 0.9635 - val_loss: 0.4170 - val_acc: 0.9200\n",
      "Epoch 32/50\n",
      "100/100 [==============================] - 72s 722ms/step - loss: 0.0605 - acc: 0.9760 - val_loss: 0.1882 - val_acc: 0.9260\n",
      "Epoch 33/50\n",
      "100/100 [==============================] - 70s 698ms/step - loss: 0.0555 - acc: 0.9765 - val_loss: 0.4568 - val_acc: 0.9380\n",
      "Epoch 34/50\n",
      "100/100 [==============================] - 68s 679ms/step - loss: 0.0660 - acc: 0.9755 - val_loss: 0.3300 - val_acc: 0.9370\n",
      "Epoch 35/50\n",
      "100/100 [==============================] - 71s 706ms/step - loss: 0.0514 - acc: 0.9815 - val_loss: 0.1990 - val_acc: 0.9280\n",
      "Epoch 36/50\n",
      "100/100 [==============================] - 69s 692ms/step - loss: 0.0624 - acc: 0.9775 - val_loss: 0.1033 - val_acc: 0.9400\n",
      "Epoch 37/50\n",
      "100/100 [==============================] - 69s 685ms/step - loss: 0.0392 - acc: 0.9845 - val_loss: 0.3277 - val_acc: 0.9390\n",
      "Epoch 38/50\n",
      "100/100 [==============================] - 68s 681ms/step - loss: 0.0626 - acc: 0.9770 - val_loss: 0.3508 - val_acc: 0.9310\n",
      "Epoch 39/50\n",
      "100/100 [==============================] - 68s 682ms/step - loss: 0.0575 - acc: 0.9765 - val_loss: 0.0500 - val_acc: 0.9310\n",
      "Epoch 40/50\n",
      "100/100 [==============================] - 68s 682ms/step - loss: 0.0552 - acc: 0.9790 - val_loss: 0.4931 - val_acc: 0.9260\n",
      "Epoch 41/50\n",
      "100/100 [==============================] - 68s 685ms/step - loss: 0.0497 - acc: 0.9825 - val_loss: 0.0807 - val_acc: 0.9320\n",
      "Epoch 42/50\n",
      "100/100 [==============================] - 68s 685ms/step - loss: 0.0461 - acc: 0.9835 - val_loss: 0.3213 - val_acc: 0.9370\n",
      "Epoch 43/50\n",
      "100/100 [==============================] - 69s 686ms/step - loss: 0.0517 - acc: 0.9815 - val_loss: 0.3230 - val_acc: 0.9150\n",
      "Epoch 44/50\n",
      "100/100 [==============================] - 70s 698ms/step - loss: 0.0423 - acc: 0.9880 - val_loss: 0.8371 - val_acc: 0.9370\n",
      "Epoch 45/50\n",
      "100/100 [==============================] - 72s 716ms/step - loss: 0.0384 - acc: 0.9855 - val_loss: 0.5584 - val_acc: 0.9260\n",
      "Epoch 46/50\n",
      "100/100 [==============================] - 70s 697ms/step - loss: 0.0446 - acc: 0.9855 - val_loss: 0.3384 - val_acc: 0.9350\n",
      "Epoch 47/50\n",
      "100/100 [==============================] - 76s 764ms/step - loss: 0.0495 - acc: 0.9820 - val_loss: 0.1063 - val_acc: 0.9210\n",
      "Epoch 48/50\n",
      "100/100 [==============================] - 75s 752ms/step - loss: 0.0326 - acc: 0.9880 - val_loss: 0.1918 - val_acc: 0.9300\n",
      "Epoch 49/50\n",
      "100/100 [==============================] - 76s 761ms/step - loss: 0.0607 - acc: 0.9810 - val_loss: 0.2018 - val_acc: 0.9440\n",
      "Epoch 50/50\n",
      "100/100 [==============================] - 73s 733ms/step - loss: 0.0385 - acc: 0.9860 - val_loss: 0.2981 - val_acc: 0.9380\n"
     ]
    }
   ],
   "source": [
    "history = model.fit_generator(\n",
    "      train_generator,\n",
    "      steps_per_epoch=100,\n",
    "      epochs=50,\n",
    "      validation_data=validation_generator,\n",
    "      validation_steps=50)"
   ]
  },
  {
   "cell_type": "code",
   "execution_count": 14,
   "metadata": {},
   "outputs": [
    {
     "data": {
      "text/plain": [
       "<matplotlib.legend.Legend at 0x210689debe0>"
      ]
     },
     "execution_count": 14,
     "metadata": {},
     "output_type": "execute_result"
    },
    {
     "data": {
      "image/png": "[encoded data removed]",
      "text/plain": [
       "<Figure size 432x288 with 1 Axes>"
      ]
     },
     "metadata": {
      "needs_background": "light"
     },
     "output_type": "display_data"
    },
    {
     "data": {
      "image/png": "[encoded data removed]",
      "text/plain": [
       "<Figure size 432x288 with 1 Axes>"
      ]
     },
     "metadata": {
      "needs_background": "light"
     },
     "output_type": "display_data"
    }
   ],
   "source": [
    "acc = history.history['acc']\n",
    "val_acc = history.history['val_acc']\n",
    "loss = history.history['loss']\n",
    "val_loss = history.history['val_loss']\n",
    "\n",
    "epochs = range(len(acc))\n",
    "\n",
    "plt.plot(epochs, acc, label='Training acc')\n",
    "plt.plot(epochs, val_acc, label='Validation acc')\n",
    "plt.title('Training and validation accuracy')\n",
    "plt.legend()\n",
    "\n",
    "plt.figure()\n",
    "\n",
    "plt.plot(epochs, loss, label='Training loss')\n",
    "plt.plot(epochs, val_loss, label='Validation loss')\n",
    "plt.title('Training and validation loss')\n",
    "plt.legend()"
   ]
  },
  {
   "cell_type": "code",
   "execution_count": null,
   "metadata": {},
   "outputs": [],
   "source": []
  }
 ],
 "metadata": {
  "kernelspec": {
   "display_name": "Python 3",
   "language": "python",
   "name": "python3"
  },
  "language_info": {
   "codemirror_mode": {
    "name": "ipython",
    "version": 3
   },
   "file_extension": ".py",
   "mimetype": "text/x-python",
   "name": "python",
   "nbconvert_exporter": "python",
   "pygments_lexer": "ipython3",
   "version": "3.6.12"
  }
 },
 "nbformat": 4,
 "nbformat_minor": 4
}

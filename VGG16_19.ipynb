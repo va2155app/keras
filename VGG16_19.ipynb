{
 "cells": [
  {
   "cell_type": "code",
   "execution_count": 1,
   "metadata": {},
   "outputs": [],
   "source": [
    "# 這個Jupyter Notebook的環境\n",
    "import platform\n",
    "import tensorflow\n",
    "import keras\n",
    "from keras.applications.vgg19 import VGG19\n",
    "from keras.preprocessing.image import load_img\n",
    "from keras.preprocessing.image import img_to_array\n",
    "from keras.applications.vgg19 import preprocess_input\n",
    "from keras.applications.vgg19 import decode_predictions\n"
   ]
  },
  {
   "cell_type": "code",
   "execution_count": 2,
   "metadata": {},
   "outputs": [
    {
     "name": "stdout",
     "output_type": "stream",
     "text": [
      "Downloading data from https://storage.googleapis.com/tensorflow/keras-applications/vgg19/vgg19_weights_tf_dim_ordering_tf_kernels.h5\n",
      "574717952/574710816 [==============================] - 392s 1us/step\n",
      "image.shape: (224, 224, 3)\n",
      "image.shape: (1, 224, 224, 3)\n"
     ]
    }
   ],
   "source": [
    "# 載入權重\n",
    "model_vgg19 = VGG19(weights='imagenet')\n",
    "\n",
    "img_file = 'dog.jpg'\n",
    "image = load_img(img_file, target_size=(224, 224)) # 因為VGG16的模型的輸入是224x224\n",
    "\n",
    "\n",
    "# 將圖像資料轉為numpy array\n",
    "image = img_to_array(image) # RGB\n",
    "print(\"image.shape:\", image.shape)\n",
    "\n",
    "# 調整張量的維度\n",
    "image = image.reshape((1, image.shape[0], image.shape[1], image.shape[2]))\n",
    "print(\"image.shape:\", image.shape)\n",
    "\n",
    "\n",
    "\n",
    "# 準備VGG模型的圖像\n",
    "image = preprocess_input(image)\n",
    "\n",
    "# 預測所有產出類別的機率\n",
    "y_pred = model_vgg19.predict(image)\n",
    "\n",
    "\n",
    "# 將機率轉換為類別標籤\n",
    "label = decode_predictions(y_pred)\n",
    "\n",
    "# 檢索最可能的結果，例如最高的概率\n",
    "#label = label[0][0]\n",
    "\n",
    "# 打印預測結果\n",
    "#print('%s (%.2f%%)' % (label[1], label[2]*100))"
   ]
  },
  {
   "cell_type": "code",
   "execution_count": 3,
   "metadata": {},
   "outputs": [
    {
     "data": {
      "text/plain": [
       "[[('n02109961', 'Eskimo_dog', 0.5049222),\n",
       "  ('n02110185', 'Siberian_husky', 0.14445914),\n",
       "  ('n03218198', 'dogsled', 0.072994106),\n",
       "  ('n04254680', 'soccer_ball', 0.030382594),\n",
       "  ('n02088364', 'beagle', 0.018467452)]]"
      ]
     },
     "execution_count": 3,
     "metadata": {},
     "output_type": "execute_result"
    }
   ],
   "source": [
    "label"
   ]
  },
  {
   "cell_type": "code",
   "execution_count": 11,
   "metadata": {},
   "outputs": [
    {
     "name": "stdout",
     "output_type": "stream",
     "text": [
      "Model: \"functional_15\"\n",
      "_________________________________________________________________\n",
      "Layer (type)                 Output Shape              Param #   \n",
      "=================================================================\n",
      "input (InputLayer)           [(None, 784)]             0         \n",
      "_________________________________________________________________\n",
      "hidden1 (Dense)              (None, 512)               401920    \n",
      "_________________________________________________________________\n",
      "hidden2 (Dense)              (None, 216)               110808    \n",
      "_________________________________________________________________\n",
      "hidden3 (Dense)              (None, 128)               27776     \n",
      "_________________________________________________________________\n",
      "output (Dense)               (None, 10)                1290      \n",
      "=================================================================\n",
      "Total params: 541,794\n",
      "Trainable params: 541,794\n",
      "Non-trainable params: 0\n",
      "_________________________________________________________________\n",
      "('Failed to import pydot. You must `pip install pydot` and install graphviz (https://graphviz.gitlab.io/download/), ', 'for `pydotprint` to work.')\n"
     ]
    }
   ],
   "source": [
    "# 多層感知器(MLP)模型\n",
    "from keras.models import Model\n",
    "from keras.layers import Input, Dense\n",
    "from keras.utils import plot_model\n",
    "\n",
    "# 這個Jupyter Notebook的環境\n",
    "import platform\n",
    "import tensorflow\n",
    "import keras\n",
    "import pydot\n",
    "\n",
    "%matplotlib inline\n",
    "import matplotlib.pyplot as plt\n",
    "import matplotlib.image as mpimg\n",
    "import numpy as np\n",
    "from IPython.display import Image\n",
    "\n",
    "\n",
    "\n",
    "mnist_input = Input(shape=(784,), name='input')\n",
    "hidden1 = Dense(512, activation='relu', name='hidden1')(mnist_input)\n",
    "hidden2 = Dense(216, activation='relu', name='hidden2')(hidden1)\n",
    "hidden3 = Dense(128, activation='relu', name='hidden3')(hidden2)\n",
    "output = Dense(10, activation='softmax', name='output')(hidden3)\n",
    "\n",
    "model = Model(inputs=mnist_input, outputs=output)\n",
    "\n",
    "# 打印網絡結構\n",
    "model.summary()\n",
    "\n",
    "# 產生網絡拓撲圖\n",
    "plot_model(model, to_file='multilayer_perceptron_graph.png')\n",
    "\n",
    "# 秀出網絡拓撲圖\n",
    "#Image('multilayer_perceptron_graph.png')"
   ]
  },
  {
   "cell_type": "code",
   "execution_count": null,
   "metadata": {},
   "outputs": [],
   "source": []
  }
 ],
 "metadata": {
  "kernelspec": {
   "display_name": "Python 3",
   "language": "python",
   "name": "python3"
  },
  "language_info": {
   "codemirror_mode": {
    "name": "ipython",
    "version": 3
   },
   "file_extension": ".py",
   "mimetype": "text/x-python",
   "name": "python",
   "nbconvert_exporter": "python",
   "pygments_lexer": "ipython3",
   "version": "3.6.12"
  }
 },
 "nbformat": 4,
 "nbformat_minor": 4
}

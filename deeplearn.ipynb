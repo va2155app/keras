{
 "cells": [
  {
   "cell_type": "code",
   "execution_count": 3,
   "metadata": {},
   "outputs": [],
   "source": [
    "import warnings\n",
    "warnings.filterwarnings('ignore') # 把一些惱人的警示訊息暫時忽略\n",
    "\n",
    "import numpy as np\n",
    "from skimage import io, color, exposure, transform\n",
    "from sklearn.model_selection import train_test_split\n",
    "import os\n",
    "import glob\n",
    "import h5py\n",
    "\n",
    "from keras.preprocessing.image import ImageDataGenerator\n",
    "from keras.models import Sequential, model_from_json\n",
    "from keras.layers.core import Dense, Dropout, Activation, Flatten\n",
    "from keras.layers.convolutional import Conv2D\n",
    "from keras.layers.pooling import MaxPooling2D\n",
    "\n",
    "from keras.optimizers import SGD\n",
    "import keras.utils as np_utils\n",
    "from keras.callbacks import LearningRateScheduler, ModelCheckpoint\n",
    "\n",
    "from matplotlib import pyplot as plt\n",
    "\n",
    "from pathlib import PurePath # 處理不同作業系統file path的解析問題 (*nix vs windows)\n",
    "\n",
    "%matplotlib inline\n",
    "\n",
    "NUM_CLASSES = 43 # 共有43種要辨識的交通標誌\n",
    "IMG_SIZE = 48 # 每張圖像最後都要整理成 48x48的大小"
   ]
  },
  {
   "cell_type": "code",
   "execution_count": 4,
   "metadata": {},
   "outputs": [],
   "source": [
    "# 圖像標高度均衡、置中及大小調整\n",
    "def preprocess_img(img):\n",
    "    # 進行\"直方圖均衡化\"處理\n",
    "    hsv = color.rgb2hsv(img) # 對彩色分量rgb分別做均衡化，會產生奇異的點，圖像不和諧。一般採用的是用hsv空間進行亮度的均衡\n",
    "    hsv[:,:,2] = exposure.equalize_hist(hsv[:,:,2])\n",
    "    img = color.hsv2rgb(hsv) # 再把圖像從hsv轉回rgb\n",
    "    \n",
    "    # 進行圖像置中\n",
    "    min_side = min(img.shape[:-1])\n",
    "    centre = img.shape[0]//2, img.shape[1]//2\n",
    "    img = img[centre[0]-min_side//2:centre[0]+min_side//2,\n",
    "              centre[1]-min_side//2:centre[1]+min_side//2,\n",
    "              :]\n",
    "    \n",
    "    # 改變大小\n",
    "    img = transform.resize(img, (IMG_SIZE, IMG_SIZE))    \n",
    "    return img\n",
    "\n",
    "# 取得圖像檔的分類標籤\n",
    "def get_class(img_path):\n",
    "    # 圖像檔所在的檔案夾名稱就是該圖像檔的分類標籤\n",
    "    return int(PurePath(img_path).parts[-2])"
   ]
  },
  {
   "cell_type": "code",
   "execution_count": 5,
   "metadata": {},
   "outputs": [
    {
     "name": "stdout",
     "output_type": "stream",
     "text": [
      "Error in reading X.h5. Processing all images...\n",
      "Processed 1000/39209\n",
      "Processed 2000/39209\n",
      "Processed 3000/39209\n",
      "Processed 4000/39209\n",
      "Processed 5000/39209\n",
      "Processed 6000/39209\n",
      "Processed 7000/39209\n",
      "Processed 8000/39209\n",
      "Processed 9000/39209\n",
      "Processed 10000/39209\n",
      "Processed 11000/39209\n",
      "Processed 12000/39209\n",
      "Processed 13000/39209\n",
      "Processed 14000/39209\n",
      "Processed 15000/39209\n",
      "Processed 16000/39209\n",
      "Processed 17000/39209\n",
      "Processed 18000/39209\n",
      "Processed 19000/39209\n",
      "Processed 20000/39209\n",
      "Processed 21000/39209\n",
      "Processed 22000/39209\n",
      "Processed 23000/39209\n",
      "Processed 24000/39209\n",
      "Processed 25000/39209\n",
      "Processed 26000/39209\n",
      "Processed 27000/39209\n",
      "Processed 28000/39209\n",
      "Processed 29000/39209\n",
      "Processed 30000/39209\n",
      "Processed 31000/39209\n",
      "Processed 32000/39209\n",
      "Processed 33000/39209\n",
      "Processed 34000/39209\n",
      "Processed 35000/39209\n",
      "Processed 36000/39209\n",
      "Processed 37000/39209\n",
      "Processed 38000/39209\n",
      "Processed 39000/39209\n"
     ]
    }
   ],
   "source": [
    "# 從檔案系統中把保留的資料載入(如果沒有就進行第一次的資料轉換處理)\n",
    "try:\n",
    "    with h5py.File('X.h5') as hf:\n",
    "        X, Y = hf['imgs'][:], hf['labels'][:]\n",
    "    \n",
    "    print(\"Loaded images from X.h5\")\n",
    "    \n",
    "except(IOError, OSError, KeyError):\n",
    "    print(\"Error in reading X.h5. Processing all images...\")\n",
    "    root_dir = 'GTSRB/Final_Training/Images/'\n",
    "    imgs = []\n",
    "    labels = []\n",
    "    \n",
    "    all_img_paths = glob.glob(os.path.join(root_dir, '*/*.ppm')) # 我們有 Test與Traing兩個檔案夾的資料要處理\n",
    "    np.random.shuffle(all_img_paths) # 進行打散\n",
    "    for img_path in all_img_paths:\n",
    "        try:\n",
    "            img = preprocess_img(io.imread(img_path))\n",
    "            label = get_class(img_path)\n",
    "            imgs.append(img) # 保留圖像資料\n",
    "            labels.append(label) # 保留圖像標籤\n",
    "            \n",
    "            if len(imgs)%1000 == 0:\n",
    "                print(\"Processed {}/{}\".format(len(imgs), len(all_img_paths))) # 每1000筆秀一下進度\n",
    "        except(IOError, OSError):\n",
    "            print('missed', img_path)\n",
    "            pass\n",
    "        \n",
    "    X = np.array(imgs, dtype='float32') # 將資料轉換成numpy的ndarray, 資料型別為float32\n",
    "    Y = np.eye(NUM_CLASSES, dtype='uint8')[labels] # 對labels的資料進行one-hot (使用numpy.eye的函式)\n",
    "    \n",
    "    # 將處理過圖像資料與標籤保持在檔案系統, 下次可以加速載入與處理\n",
    "    with h5py.File('X.h5', 'w') as hf:\n",
    "        hf.create_dataset('imgs', data=X)\n",
    "        hf.create_dataset('labels', data=Y)"
   ]
  },
  {
   "cell_type": "code",
   "execution_count": 6,
   "metadata": {},
   "outputs": [
    {
     "name": "stdout",
     "output_type": "stream",
     "text": [
      "Model: \"sequential\"\n",
      "_________________________________________________________________\n",
      "Layer (type)                 Output Shape              Param #   \n",
      "=================================================================\n",
      "conv2d (Conv2D)              (None, 48, 48, 32)        896       \n",
      "_________________________________________________________________\n",
      "conv2d_1 (Conv2D)            (None, 46, 46, 32)        9248      \n",
      "_________________________________________________________________\n",
      "max_pooling2d (MaxPooling2D) (None, 23, 23, 32)        0         \n",
      "_________________________________________________________________\n",
      "dropout (Dropout)            (None, 23, 23, 32)        0         \n",
      "_________________________________________________________________\n",
      "conv2d_2 (Conv2D)            (None, 23, 23, 64)        18496     \n",
      "_________________________________________________________________\n",
      "conv2d_3 (Conv2D)            (None, 23, 23, 64)        36928     \n",
      "_________________________________________________________________\n",
      "max_pooling2d_1 (MaxPooling2 (None, 11, 11, 64)        0         \n",
      "_________________________________________________________________\n",
      "dropout_1 (Dropout)          (None, 11, 11, 64)        0         \n",
      "_________________________________________________________________\n",
      "conv2d_4 (Conv2D)            (None, 11, 11, 128)       73856     \n",
      "_________________________________________________________________\n",
      "conv2d_5 (Conv2D)            (None, 11, 11, 128)       147584    \n",
      "_________________________________________________________________\n",
      "max_pooling2d_2 (MaxPooling2 (None, 5, 5, 128)         0         \n",
      "_________________________________________________________________\n",
      "dropout_2 (Dropout)          (None, 5, 5, 128)         0         \n",
      "_________________________________________________________________\n",
      "flatten (Flatten)            (None, 3200)              0         \n",
      "_________________________________________________________________\n",
      "dense (Dense)                (None, 512)               1638912   \n",
      "_________________________________________________________________\n",
      "dropout_3 (Dropout)          (None, 512)               0         \n",
      "_________________________________________________________________\n",
      "dense_1 (Dense)              (None, 43)                22059     \n",
      "=================================================================\n",
      "Total params: 1,947,979\n",
      "Trainable params: 1,947,979\n",
      "Non-trainable params: 0\n",
      "_________________________________________________________________\n"
     ]
    }
   ],
   "source": [
    "# 產生一個Keras序貫模型\n",
    "def cnn_model():\n",
    "    model = Sequential()\n",
    "    \n",
    "    model.add(Conv2D(32, (3, 3), padding='same', activation='relu', input_shape=(IMG_SIZE, IMG_SIZE, 3)))    \n",
    "    model.add(Conv2D(32, (3, 3), activation='relu'))\n",
    "    model.add(MaxPooling2D(pool_size=(2, 2)))\n",
    "    model.add(Dropout(0.2))\n",
    "    \n",
    "    model.add(Conv2D(64, (3, 3), padding='same', activation='relu'))\n",
    "    model.add(Conv2D(64, (3, 3), padding='same', activation='relu'))\n",
    "    model.add(MaxPooling2D(pool_size=(2, 2)))\n",
    "    model.add(Dropout(0.2))\n",
    "    \n",
    "    model.add(Conv2D(128, (3, 3), padding='same', activation='relu'))\n",
    "    model.add(Conv2D(128, (3, 3), padding='same', activation='relu'))\n",
    "    model.add(MaxPooling2D(pool_size=(2, 2)))\n",
    "    model.add(Dropout(0.2))\n",
    "    \n",
    "    model.add(Flatten())\n",
    "    model.add(Dense(512, activation='relu'))\n",
    "    model.add(Dropout(0.5))\n",
    "    model.add(Dense(NUM_CLASSES, activation='softmax'))\n",
    "    \n",
    "    return model;   \n",
    "\n",
    "model = cnn_model() # 初始化一個模型\n",
    "model.summary() # 秀出模型架構"
   ]
  },
  {
   "cell_type": "code",
   "execution_count": 7,
   "metadata": {},
   "outputs": [],
   "source": [
    "# 讓我們先配置一個常用的組合來作為後續優化的基準點\n",
    "lr = 0.005\n",
    "sgd = SGD(lr=lr, decay=1e-6, momentum=0.9, nesterov=True)\n",
    "model.compile(loss='categorical_crossentropy',\n",
    "             optimizer=sgd,\n",
    "             metrics=['accuracy'])"
   ]
  },
  {
   "cell_type": "code",
   "execution_count": 11,
   "metadata": {},
   "outputs": [
    {
     "name": "stdout",
     "output_type": "stream",
     "text": [
      "Epoch 1/30\n",
      "785/785 [==============================] - 34s 44ms/step - loss: 0.0128 - accuracy: 0.9952 - val_loss: 0.0217 - val_accuracy: 0.9943\n",
      "Epoch 2/30\n",
      "785/785 [==============================] - 35s 45ms/step - loss: 0.0166 - accuracy: 0.9948 - val_loss: 0.0230 - val_accuracy: 0.9934\n",
      "Epoch 3/30\n",
      "785/785 [==============================] - 34s 44ms/step - loss: 0.0172 - accuracy: 0.9949 - val_loss: 0.0246 - val_accuracy: 0.9927\n",
      "Epoch 4/30\n",
      "785/785 [==============================] - 35s 45ms/step - loss: 0.0137 - accuracy: 0.9954 - val_loss: 0.0231 - val_accuracy: 0.9948\n",
      "Epoch 5/30\n",
      "785/785 [==============================] - 35s 45ms/step - loss: 0.0126 - accuracy: 0.9958 - val_loss: 0.0190 - val_accuracy: 0.9952\n",
      "Epoch 6/30\n",
      "785/785 [==============================] - 39s 50ms/step - loss: 0.0139 - accuracy: 0.9956 - val_loss: 0.0182 - val_accuracy: 0.9955\n",
      "Epoch 7/30\n",
      "785/785 [==============================] - 39s 49ms/step - loss: 0.0119 - accuracy: 0.9962 - val_loss: 0.0248 - val_accuracy: 0.9932\n",
      "Epoch 8/30\n",
      "785/785 [==============================] - 42s 53ms/step - loss: 0.0141 - accuracy: 0.9953 - val_loss: 0.0206 - val_accuracy: 0.9949\n",
      "Epoch 9/30\n",
      "785/785 [==============================] - 39s 49ms/step - loss: 0.0108 - accuracy: 0.9967 - val_loss: 0.0228 - val_accuracy: 0.9944\n",
      "Epoch 10/30\n",
      "785/785 [==============================] - 39s 49ms/step - loss: 0.0083 - accuracy: 0.9972 - val_loss: 0.0239 - val_accuracy: 0.9946\n",
      "Epoch 11/30\n",
      "785/785 [==============================] - 39s 50ms/step - loss: 0.0062 - accuracy: 0.9983 - val_loss: 0.0187 - val_accuracy: 0.9958\n",
      "Epoch 12/30\n",
      "785/785 [==============================] - 38s 48ms/step - loss: 0.0042 - accuracy: 0.9988 - val_loss: 0.0188 - val_accuracy: 0.9958\n",
      "Epoch 13/30\n",
      "785/785 [==============================] - 38s 48ms/step - loss: 0.0047 - accuracy: 0.9985 - val_loss: 0.0185 - val_accuracy: 0.9959\n",
      "Epoch 14/30\n",
      "785/785 [==============================] - 40s 51ms/step - loss: 0.0034 - accuracy: 0.9990 - val_loss: 0.0182 - val_accuracy: 0.9958\n",
      "Epoch 15/30\n",
      "785/785 [==============================] - 39s 49ms/step - loss: 0.0035 - accuracy: 0.9991 - val_loss: 0.0178 - val_accuracy: 0.9963\n",
      "Epoch 16/30\n",
      "785/785 [==============================] - 39s 50ms/step - loss: 0.0042 - accuracy: 0.9987 - val_loss: 0.0180 - val_accuracy: 0.9964\n",
      "Epoch 17/30\n",
      "785/785 [==============================] - 39s 50ms/step - loss: 0.0035 - accuracy: 0.9988 - val_loss: 0.0177 - val_accuracy: 0.9966\n",
      "Epoch 18/30\n",
      "785/785 [==============================] - 43s 55ms/step - loss: 0.0027 - accuracy: 0.9991 - val_loss: 0.0180 - val_accuracy: 0.9966\n",
      "Epoch 19/30\n",
      "785/785 [==============================] - 39s 50ms/step - loss: 0.0033 - accuracy: 0.9989 - val_loss: 0.0184 - val_accuracy: 0.9966\n",
      "Epoch 20/30\n",
      "785/785 [==============================] - 39s 50ms/step - loss: 0.0030 - accuracy: 0.9991 - val_loss: 0.0179 - val_accuracy: 0.9958\n",
      "Epoch 21/30\n",
      "785/785 [==============================] - 41s 52ms/step - loss: 0.0032 - accuracy: 0.9989 - val_loss: 0.0177 - val_accuracy: 0.9959\n",
      "Epoch 22/30\n",
      "785/785 [==============================] - 39s 50ms/step - loss: 0.0033 - accuracy: 0.9989 - val_loss: 0.0175 - val_accuracy: 0.9964\n",
      "Epoch 23/30\n",
      "785/785 [==============================] - 38s 49ms/step - loss: 0.0030 - accuracy: 0.9990 - val_loss: 0.0176 - val_accuracy: 0.9966\n",
      "Epoch 24/30\n",
      "785/785 [==============================] - 39s 50ms/step - loss: 0.0027 - accuracy: 0.9993 - val_loss: 0.0175 - val_accuracy: 0.9967\n",
      "Epoch 25/30\n",
      "785/785 [==============================] - 39s 49ms/step - loss: 0.0036 - accuracy: 0.9988 - val_loss: 0.0175 - val_accuracy: 0.9967\n",
      "Epoch 26/30\n",
      "785/785 [==============================] - 40s 51ms/step - loss: 0.0031 - accuracy: 0.9988 - val_loss: 0.0174 - val_accuracy: 0.9968\n",
      "Epoch 27/30\n",
      "785/785 [==============================] - 41s 53ms/step - loss: 0.0024 - accuracy: 0.9992 - val_loss: 0.0174 - val_accuracy: 0.9968\n",
      "Epoch 28/30\n",
      "785/785 [==============================] - 42s 53ms/step - loss: 0.0030 - accuracy: 0.9991 - val_loss: 0.0175 - val_accuracy: 0.9968\n",
      "Epoch 29/30\n",
      "785/785 [==============================] - 39s 50ms/step - loss: 0.0033 - accuracy: 0.9988 - val_loss: 0.0176 - val_accuracy: 0.9968\n",
      "Epoch 30/30\n",
      "785/785 [==============================] - 42s 54ms/step - loss: 0.0028 - accuracy: 0.9991 - val_loss: 0.0176 - val_accuracy: 0.9968\n"
     ]
    }
   ],
   "source": [
    "def lr_schedule(epoch):\n",
    "    return lr*(0.1**int(epoch/10))\n",
    "\n",
    "batch_size = 40\n",
    "nb_epoch = 30\n",
    "\n",
    "history = model.fit(X, Y,\n",
    "         batch_size=batch_size,\n",
    "         epochs=nb_epoch,\n",
    "         validation_split=0.2,\n",
    "         shuffle=True,\n",
    "         callbacks=[LearningRateScheduler(lr_schedule),\n",
    "             ModelCheckpoint('model.h5', save_best_only=True)\n",
    "         ])"
   ]
  },
  {
   "cell_type": "code",
   "execution_count": 13,
   "metadata": {},
   "outputs": [
    {
     "data": {
      "text/plain": [
       "<tensorflow.python.keras.callbacks.History at 0x20c0b1ff2e0>"
      ]
     },
     "execution_count": 13,
     "metadata": {},
     "output_type": "execute_result"
    }
   ],
   "source": [
    "history"
   ]
  },
  {
   "cell_type": "code",
   "execution_count": 14,
   "metadata": {},
   "outputs": [
    {
     "data": {
      "image/png": "[encoded data removed]",
      "text/plain": [
       "<Figure size 864x288 with 2 Axes>"
      ]
     },
     "metadata": {
      "needs_background": "light"
     },
     "output_type": "display_data"
    }
   ],
   "source": [
    "def plot_train_history(history, train_metrics, val_metrics):\n",
    "    plt.plot(history.history.get(train_metrics),'-o')\n",
    "    plt.plot(history.history.get(val_metrics),'-o')\n",
    "    plt.ylabel(train_metrics)\n",
    "    plt.xlabel('Epochs')\n",
    "    plt.legend(['train', 'validation'])\n",
    "    \n",
    "    \n",
    "plt.figure(figsize=(12,4))\n",
    "plt.subplot(1,2,1)\n",
    "plot_train_history(history, 'loss','val_loss')\n",
    "\n",
    "plt.subplot(1,2,2)\n",
    "plot_train_history(history, 'accuracy','val_accuracy')\n",
    "\n",
    "plt.show()"
   ]
  },
  {
   "cell_type": "code",
   "execution_count": 18,
   "metadata": {},
   "outputs": [
    {
     "name": "stdout",
     "output_type": "stream",
     "text": [
      "X_test.shape:  (12630, 48, 48, 3)\n",
      "y_test.shape:  (12630,)\n"
     ]
    }
   ],
   "source": [
    "import pandas as pd\n",
    "\n",
    "\n",
    "test = pd.read_csv('GTSRB/GT-final_test.csv', sep=';')\n",
    "# 裡面包含了六個欄位 Filename;Width;Height;Roi.X1;Roi.Y1;Roi.X2;Roi.Y2;ClassId\n",
    "\n",
    "X_test = []\n",
    "y_test = []\n",
    "\n",
    "# 迭代處理每一筆要測試的圖像檔\n",
    "i=0\n",
    "for file_name, class_id in zip(list(test['Filename']),list(test['ClassId'])):\n",
    "    img_path = os.path.join('GTSRB/Final_Test/Images/',file_name)\n",
    "    X_test.append(preprocess_img(io.imread(img_path)))\n",
    "    y_test.append(class_id)\n",
    "    \n",
    "# 轉換成numpy ndarray\n",
    "X_test = np.array(X_test)\n",
    "y_test = np.array(y_test)\n",
    "\n",
    "print(\"X_test.shape: \", X_test.shape)\n",
    "print(\"y_test.shape: \", y_test.shape)"
   ]
  },
  {
   "cell_type": "code",
   "execution_count": 19,
   "metadata": {},
   "outputs": [
    {
     "name": "stdout",
     "output_type": "stream",
     "text": [
      "Test accuracy = 0.9693586698337292\n"
     ]
    }
   ],
   "source": [
    "# 預測與比對\n",
    "y_pred = model.predict_classes(X_test)\n",
    "acc = np.sum(y_pred==y_test)/np.size(y_pred)\n",
    "print(\"Test accuracy = {}\".format(acc))"
   ]
  },
  {
   "cell_type": "code",
   "execution_count": 20,
   "metadata": {},
   "outputs": [],
   "source": [
    "from sklearn.model_selection import train_test_split\n",
    "\n",
    "X_train, X_val, Y_train, Y_val = train_test_split(X, Y, test_size=0.2, random_state=42)\n",
    "\n",
    "datagen = ImageDataGenerator(featurewise_center=False, \n",
    "                            featurewise_std_normalization=False, \n",
    "                            rotation_range=10.,\n",
    "                            width_shift_range=0.1,\n",
    "                            height_shift_range=0.1,                             \n",
    "                            shear_range=0.1,\n",
    "                            zoom_range=0.2,\n",
    "                            )\n",
    "\n",
    "datagen.fit(X_train)"
   ]
  },
  {
   "cell_type": "code",
   "execution_count": 21,
   "metadata": {},
   "outputs": [
    {
     "name": "stdout",
     "output_type": "stream",
     "text": [
      "WARNING:tensorflow:From <ipython-input-21-a03d06ca0bd2>:18: Model.fit_generator (from tensorflow.python.keras.engine.training) is deprecated and will be removed in a future version.\n",
      "Instructions for updating:\n",
      "Please use Model.fit, which supports generators.\n",
      "Epoch 1/30\n",
      "981/980 [==============================] - 63s 64ms/step - loss: 2.4210 - accuracy: 0.2970 - val_loss: 1.1604 - val_accuracy: 0.5863\n",
      "Epoch 2/30\n",
      "981/980 [==============================] - 65s 67ms/step - loss: 0.9119 - accuracy: 0.7045 - val_loss: 0.2343 - val_accuracy: 0.9188\n",
      "Epoch 3/30\n",
      "981/980 [==============================] - 70s 72ms/step - loss: 0.3823 - accuracy: 0.8798 - val_loss: 0.0705 - val_accuracy: 0.9781\n",
      "Epoch 4/30\n",
      "981/980 [==============================] - 64s 65ms/step - loss: 0.2440 - accuracy: 0.9224 - val_loss: 0.0346 - val_accuracy: 0.9898\n",
      "Epoch 5/30\n",
      "981/980 [==============================] - 63s 64ms/step - loss: 0.1850 - accuracy: 0.9435 - val_loss: 0.0352 - val_accuracy: 0.9895\n",
      "Epoch 6/30\n",
      "981/980 [==============================] - 69s 70ms/step - loss: 0.1697 - accuracy: 0.9488 - val_loss: 0.0267 - val_accuracy: 0.9931\n",
      "Epoch 7/30\n",
      "981/980 [==============================] - 54s 55ms/step - loss: 0.1317 - accuracy: 0.9596 - val_loss: 0.0283 - val_accuracy: 0.9907\n",
      "Epoch 8/30\n",
      "981/980 [==============================] - 51s 52ms/step - loss: 0.1128 - accuracy: 0.9663 - val_loss: 0.0201 - val_accuracy: 0.9954\n",
      "Epoch 9/30\n",
      "981/980 [==============================] - 52s 53ms/step - loss: 0.1064 - accuracy: 0.9680 - val_loss: 0.0192 - val_accuracy: 0.9931\n",
      "Epoch 10/30\n",
      "981/980 [==============================] - 57s 58ms/step - loss: 0.1026 - accuracy: 0.9692 - val_loss: 0.0184 - val_accuracy: 0.9945\n",
      "Epoch 11/30\n",
      "981/980 [==============================] - 53s 54ms/step - loss: 0.0532 - accuracy: 0.9831 - val_loss: 0.0081 - val_accuracy: 0.9977\n",
      "Epoch 12/30\n",
      "981/980 [==============================] - 51s 52ms/step - loss: 0.0382 - accuracy: 0.9882 - val_loss: 0.0079 - val_accuracy: 0.9977\n",
      "Epoch 13/30\n",
      "981/980 [==============================] - 52s 53ms/step - loss: 0.0363 - accuracy: 0.9891 - val_loss: 0.0070 - val_accuracy: 0.9982\n",
      "Epoch 14/30\n",
      "981/980 [==============================] - 54s 55ms/step - loss: 0.0349 - accuracy: 0.9896 - val_loss: 0.0068 - val_accuracy: 0.9978\n",
      "Epoch 15/30\n",
      "981/980 [==============================] - 57s 58ms/step - loss: 0.0306 - accuracy: 0.9911 - val_loss: 0.0068 - val_accuracy: 0.9978\n",
      "Epoch 16/30\n",
      "981/980 [==============================] - 54s 55ms/step - loss: 0.0309 - accuracy: 0.9898 - val_loss: 0.0059 - val_accuracy: 0.9987\n",
      "Epoch 17/30\n",
      "981/980 [==============================] - 54s 55ms/step - loss: 0.0264 - accuracy: 0.9922 - val_loss: 0.0062 - val_accuracy: 0.9985\n",
      "Epoch 18/30\n",
      "981/980 [==============================] - 53s 54ms/step - loss: 0.0277 - accuracy: 0.9915 - val_loss: 0.0070 - val_accuracy: 0.9976\n",
      "Epoch 19/30\n",
      "981/980 [==============================] - 53s 54ms/step - loss: 0.0235 - accuracy: 0.9928 - val_loss: 0.0051 - val_accuracy: 0.9983\n",
      "Epoch 20/30\n",
      "981/980 [==============================] - 53s 54ms/step - loss: 0.0250 - accuracy: 0.9918 - val_loss: 0.0048 - val_accuracy: 0.9987\n",
      "Epoch 21/30\n",
      "981/980 [==============================] - 55s 56ms/step - loss: 0.0248 - accuracy: 0.9925 - val_loss: 0.0047 - val_accuracy: 0.9987\n",
      "Epoch 22/30\n",
      "981/980 [==============================] - 54s 55ms/step - loss: 0.0241 - accuracy: 0.9928 - val_loss: 0.0048 - val_accuracy: 0.9987\n",
      "Epoch 23/30\n",
      "981/980 [==============================] - 54s 55ms/step - loss: 0.0226 - accuracy: 0.9933 - val_loss: 0.0047 - val_accuracy: 0.9987\n",
      "Epoch 24/30\n",
      "981/980 [==============================] - 55s 56ms/step - loss: 0.0223 - accuracy: 0.9929 - val_loss: 0.0048 - val_accuracy: 0.9987\n",
      "Epoch 25/30\n",
      "981/980 [==============================] - 54s 55ms/step - loss: 0.0208 - accuracy: 0.9937 - val_loss: 0.0048 - val_accuracy: 0.9987\n",
      "Epoch 26/30\n",
      "981/980 [==============================] - 59s 60ms/step - loss: 0.0219 - accuracy: 0.9929 - val_loss: 0.0049 - val_accuracy: 0.9986\n",
      "Epoch 27/30\n",
      "981/980 [==============================] - 60s 61ms/step - loss: 0.0204 - accuracy: 0.9937 - val_loss: 0.0048 - val_accuracy: 0.9987\n",
      "Epoch 28/30\n",
      "981/980 [==============================] - 53s 54ms/step - loss: 0.0219 - accuracy: 0.9935 - val_loss: 0.0048 - val_accuracy: 0.9987\n",
      "Epoch 29/30\n",
      "981/980 [==============================] - 50s 51ms/step - loss: 0.0228 - accuracy: 0.9928 - val_loss: 0.0049 - val_accuracy: 0.9987\n",
      "Epoch 30/30\n",
      "981/980 [==============================] - 52s 53ms/step - loss: 0.0224 - accuracy: 0.9931 - val_loss: 0.0049 - val_accuracy: 0.9987\n"
     ]
    }
   ],
   "source": [
    "# 重新重置一個新的模型\n",
    "model = cnn_model()\n",
    "\n",
    "# 讓我們用相同的組合\n",
    "lr = 0.01\n",
    "sgd = SGD(lr=lr, decay=1e-6, momentum=0.9, nesterov=True)\n",
    "model.compile(loss='categorical_crossentropy',\n",
    "             optimizer=sgd,\n",
    "             metrics=['accuracy'])\n",
    "\n",
    "def lr_schedule(epoch):\n",
    "    return lr*(0.1**int(epoch/10))\n",
    "\n",
    "batch_size = 32\n",
    "nb_epoch = 30\n",
    "\n",
    "# 透過data generator來產生訓練資料, 由於資料是可持續產生, 我們可以透過設定'steps_per_epoch'的數量來讓模型可以有更多的訓練批次\n",
    "history = model.fit_generator(datagen.flow(X_train, Y_train, batch_size=batch_size),\n",
    "                            steps_per_epoch=X_train.shape[0]/batch_size,\n",
    "                            epochs=nb_epoch,\n",
    "                            validation_data=(X_val, Y_val),\n",
    "                            callbacks=[LearningRateScheduler(lr_schedule),\n",
    "                                       ModelCheckpoint('model2.h5',save_best_only=True)]\n",
    "                           )\n"
   ]
  },
  {
   "cell_type": "code",
   "execution_count": 23,
   "metadata": {},
   "outputs": [
    {
     "data": {
      "image/png": "[encoded data removed]",
      "text/plain": [
       "<Figure size 864x288 with 2 Axes>"
      ]
     },
     "metadata": {
      "needs_background": "light"
     },
     "output_type": "display_data"
    }
   ],
   "source": [
    "# 透過趨勢圖來觀察訓練與驗證的走向 (特別去觀察是否有\"過擬合(overfitting)\"的現象)\n",
    "import matplotlib.pyplot as plt\n",
    "\n",
    "def plot_train_history(history, train_metrics, val_metrics):\n",
    "    plt.plot(history.history.get(train_metrics),'-o')\n",
    "    plt.plot(history.history.get(val_metrics),'-o')\n",
    "    plt.ylabel(train_metrics)\n",
    "    plt.xlabel('Epochs')\n",
    "    plt.legend(['train', 'validation'])\n",
    "    \n",
    "    \n",
    "plt.figure(figsize=(12,4))\n",
    "plt.subplot(1,2,1)\n",
    "plot_train_history(history, 'loss','val_loss')\n",
    "\n",
    "plt.subplot(1,2,2)\n",
    "plot_train_history(history, 'accuracy','val_accuracy')\n",
    "\n",
    "plt.show()"
   ]
  },
  {
   "cell_type": "code",
   "execution_count": 27,
   "metadata": {},
   "outputs": [],
   "source": [
    "ListNode"
   ]
  }
 ],
 "metadata": {
  "kernelspec": {
   "display_name": "Python 3",
   "language": "python",
   "name": "python3"
  },
  "language_info": {
   "codemirror_mode": {
    "name": "ipython",
    "version": 3
   },
   "file_extension": ".py",
   "mimetype": "text/x-python",
   "name": "python",
   "nbconvert_exporter": "python",
   "pygments_lexer": "ipython3",
   "version": "3.6.12"
  }
 },
 "nbformat": 4,
 "nbformat_minor": 4
}
